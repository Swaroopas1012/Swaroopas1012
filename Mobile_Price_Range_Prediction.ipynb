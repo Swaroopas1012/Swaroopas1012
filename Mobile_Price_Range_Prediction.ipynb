Mobile_Price_Range_Prediction.ipynb
{
  "cells": [
    {
      "cell_type": "markdown",
      "metadata": {
        "id": "view-in-github",
        "colab_type": "text"
      },
      "source": [
        "<a href=\"https://colab.research.google.com/github/ask-kawade/Mobile-Price-Range-Prediction--Classification-Problem/blob/main/Mobile_Price_Range_Prediction.ipynb\" target=\"_parent\"><img src=\"https://colab.research.google.com/assets/colab-badge.svg\" alt=\"Open In Colab\"/></a>"
      ]
    },
    {
      "cell_type": "markdown",
      "metadata": {
        "id": "khTBZyB6I9zJ"
      },
      "source": [### **Problem Statement:**\n",
        "**In the competitive mobile phone market companies want\n",
        "to understand sales data of mobile phones and factors which drive the prices.\n",
        "The objective is to find out some relation between features of a mobile phone(eg:- RAM,\n",
        "Internal Memory, etc) and its selling price. In this problem, we do not have to predict the\n",
        "actual price but a price range indicating how high the price is.**\n",
        "### **Data Description -**\n",
        "* **Battery_power** - Total energy a battery can store in one time measured in mAh\n",
        "* **Blue** - Has bluetooth or not\n",
        "* ***Clock_speed*** - speed at which microprocessor executes instructions\n",
        "* ***Dual_sim*** - Has dual sim support or not\n",
        "* ***Fc*** - Front Camera mega pixels\n",
        "* ***Four_g*** - Has 4G or not\n",
        "* ***Int_memory*** - Internal Memory in Gigabytes\n",
        "* ***M_dep*** - Mobile Depth in cm\n",
        "* ***Mobile_wt*** - Weight of mobile phone\n",
